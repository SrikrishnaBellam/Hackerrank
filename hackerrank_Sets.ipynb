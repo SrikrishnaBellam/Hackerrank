{
 "cells": [
  {
   "attachments": {},
   "cell_type": "markdown",
   "metadata": {},
   "source": [
    "### Sets"
   ]
  },
  {
   "attachments": {},
   "cell_type": "markdown",
   "metadata": {},
   "source": [
    "Q-1 Introduction to Sets"
   ]
  },
  {
   "cell_type": "code",
   "execution_count": null,
   "metadata": {},
   "outputs": [],
   "source": [
    "def average(array):\n",
    "    return sum(set(array))/len(set(array))"
   ]
  },
  {
   "attachments": {},
   "cell_type": "markdown",
   "metadata": {},
   "source": [
    "Q-2 No Idea!"
   ]
  },
  {
   "cell_type": "code",
   "execution_count": null,
   "metadata": {},
   "outputs": [],
   "source": [
    "# Enter your code here. Read input from STDIN. Print output to STDOUT\n",
    "num = list(map(int, input().split()))\n",
    "n = list(map(int, input().split()))\n",
    "a = list(map(int, input().split()))\n",
    "b = list(map(int, input().split()))\n",
    "\n",
    "aset = set(a)\n",
    "nset = set(n)\n",
    "bset = set(b)\n",
    "\n",
    "nauni = nset.intersection(aset)\n",
    "nbuni = nset.intersection(bset)\n",
    "\n",
    "naunilist = list(nauni)\n",
    "nbunilist = list(nbuni)\n",
    "nlist = list(n)\n",
    "\n",
    "hap = 0\n",
    "for i in n:\n",
    "    if (i in naunilist):\n",
    "        hap+=1\n",
    "    elif (i in nbunilist):\n",
    "        hap -=1\n",
    "print(hap)\n"
   ]
  },
  {
   "attachments": {},
   "cell_type": "markdown",
   "metadata": {},
   "source": [
    "Q-3 Symmetric Difference"
   ]
  },
  {
   "cell_type": "code",
   "execution_count": null,
   "metadata": {},
   "outputs": [],
   "source": [
    "# Enter your code here. Read input from STDIN. Print output to STDOUT\n",
    "in1 = int(input())\n",
    "a = set(map(int, input().split()))\n",
    "in2 = int(input())\n",
    "b = set(map(int, input().split()))\n",
    "c,d = a.difference(b), b.difference(a)\n",
    "\n",
    "myset = set()\n",
    "for i in c:\n",
    "    myset.add(i)\n",
    "for i in d:\n",
    "    myset.add(i)\n",
    "myset = sorted(myset)\n",
    "for i in myset:\n",
    "    print(i)\n"
   ]
  },
  {
   "attachments": {},
   "cell_type": "markdown",
   "metadata": {},
   "source": [
    "Q-4 Set .add()"
   ]
  },
  {
   "cell_type": "code",
   "execution_count": null,
   "metadata": {},
   "outputs": [],
   "source": [
    "# Enter your code here. Read input from STDIN. Print output to STDOUT\n",
    "myset = set()\n",
    "n = int(input())\n",
    "for i in range(n):\n",
    "    a = input()\n",
    "    myset.add(a)\n",
    "    \n",
    "print(len(myset))\n"
   ]
  }
 ],
 "metadata": {
  "language_info": {
   "name": "python"
  },
  "orig_nbformat": 4
 },
 "nbformat": 4,
 "nbformat_minor": 2
}
