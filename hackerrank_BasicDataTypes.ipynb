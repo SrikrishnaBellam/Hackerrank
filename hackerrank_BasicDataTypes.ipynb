{
 "cells": [
  {
   "attachments": {},
   "cell_type": "markdown",
   "metadata": {},
   "source": [
    "## Basic Data Types"
   ]
  },
  {
   "attachments": {},
   "cell_type": "markdown",
   "metadata": {},
   "source": [
    "Q-1 List Comprehensions"
   ]
  },
  {
   "cell_type": "code",
   "execution_count": null,
   "metadata": {},
   "outputs": [],
   "source": [
    "x, y, z, n = (int(input()) for _ in range(4))\n",
    "print([[a,b,c] for a in range(0,x+1) for b in range(0,y+1) for c in range(0,z+1) if a+b+c!=n])"
   ]
  },
  {
   "attachments": {},
   "cell_type": "markdown",
   "metadata": {},
   "source": [
    "Q-2 Find the Runner-Up Score!\n"
   ]
  },
  {
   "cell_type": "code",
   "execution_count": null,
   "metadata": {},
   "outputs": [],
   "source": [
    "if __name__ == '__main__':\n",
    "    n = int(input())\n",
    "    arr = map(int, input().split())\n",
    "set1=set(arr)\n",
    "l1=list(set1)\n",
    "l1.sort()\n",
    "print(l1[-2])\n"
   ]
  },
  {
   "attachments": {},
   "cell_type": "markdown",
   "metadata": {},
   "source": [
    "Q-3 Nested Lists\n"
   ]
  },
  {
   "cell_type": "code",
   "execution_count": null,
   "metadata": {},
   "outputs": [],
   "source": [
    "def bubblesort(arr):\n",
    "    l = len(arr)\n",
    "    for i in range(l):\n",
    "        for j in range(0,l-i-1):\n",
    "            if(arr[j][1]>arr[j+1][1]):\n",
    "                arr[j], arr[j+1] = arr[j+1], arr[j]\n",
    "    return arr\n",
    "arr = []\n",
    "\n",
    "for _ in range(int(input())):\n",
    "    name = input()\n",
    "    score = float(input())     \n",
    "    arr.append([name,score])\n",
    "        \n",
    "bubblesort(arr)\n",
    "num = []\n",
    "for i in arr:\n",
    "    num.append(i[1])\n",
    "c = set(num)\n",
    "b = list(c)\n",
    "b.sort()\n",
    "d = b[1]\n",
    "e =[]\n",
    "for i in arr:\n",
    "    if(i[1]==d):\n",
    "        e.append(i[0])\n",
    "e.sort()\n",
    "for i in e:\n",
    "    print(i)\n"
   ]
  },
  {
   "attachments": {},
   "cell_type": "markdown",
   "metadata": {},
   "source": [
    "Q-4 Finding the percentage\n"
   ]
  },
  {
   "cell_type": "code",
   "execution_count": null,
   "metadata": {},
   "outputs": [],
   "source": [
    "n = int(input())\n",
    "student_marks = {}\n",
    "for _ in range(n):\n",
    "    name, *line = input().split()\n",
    "    scores = list(map(float, line))\n",
    "    student_marks[name] = scores\n",
    "query_name = input()\n",
    "\n",
    "for i in student_marks:\n",
    "    if i == query_name:\n",
    "        marks = student_marks[i]\n",
    "avg = 0\n",
    "for i in marks:\n",
    "    avg+=i\n",
    "avg = avg/len(marks)\n",
    "print(\"{:.2f}\".format(avg))\n"
   ]
  },
  {
   "attachments": {},
   "cell_type": "markdown",
   "metadata": {},
   "source": [
    "Q-5 Lists"
   ]
  },
  {
   "cell_type": "code",
   "execution_count": null,
   "metadata": {},
   "outputs": [],
   "source": [
    "if __name__ == '__main__':\n",
    "    N = int(input())\n",
    "    lst = []\n",
    "    for i in range(N):\n",
    "        n = input().split()\n",
    "        cmd = n[0]\n",
    "        if cmd == 'insert':\n",
    "            lst.insert(int(n[1]),int(n[2]))\n",
    "        elif cmd == 'print':\n",
    "            print(lst)\n",
    "        elif cmd == 'remove':\n",
    "            lst.remove(int(n[1]))\n",
    "        elif cmd == 'append':\n",
    "            lst.append(int(n[1]))\n",
    "        elif cmd == 'sort':\n",
    "            lst.sort()\n",
    "        elif cmd == 'pop':\n",
    "            lst.pop()\n",
    "        elif cmd == 'reverse':\n",
    "            lst.reverse()\n"
   ]
  },
  {
   "attachments": {},
   "cell_type": "markdown",
   "metadata": {},
   "source": [
    "Q-6 Tuples"
   ]
  },
  {
   "cell_type": "code",
   "execution_count": null,
   "metadata": {},
   "outputs": [],
   "source": [
    "if __name__ == '__main__':\n",
    "    n = int(input())\n",
    "    integer_list = tuple(map(int, input().split()))\n",
    "    print(hash(integer_list))\n"
   ]
  }
 ],
 "metadata": {
  "language_info": {
   "name": "python"
  },
  "orig_nbformat": 4
 },
 "nbformat": 4,
 "nbformat_minor": 2
}
